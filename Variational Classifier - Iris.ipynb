{
 "cells": [
  {
   "cell_type": "code",
   "execution_count": 2,
   "metadata": {},
   "outputs": [],
   "source": [
    "import pennylane as qml\n",
    "from pennylane import numpy as np\n",
    "from pennylane.optimize import NesterovMomentumOptimizer\n",
    "import matplotlib.pyplot as plt"
   ]
  },
  {
   "cell_type": "code",
   "execution_count": 3,
   "metadata": {},
   "outputs": [],
   "source": [
    "dev = qml.device(\"default.qubit\", wires=2)\n",
    "\n",
    "def get_angles(x):\n",
    "\n",
    "    beta0 = 2 * np.arcsin(np.sqrt(x[1] ** 2) / np.sqrt(x[0] ** 2 + x[1] ** 2 + 1e-12))\n",
    "    beta1 = 2 * np.arcsin(np.sqrt(x[3] ** 2) / np.sqrt(x[2] ** 2 + x[3] ** 2 + 1e-12))\n",
    "    beta2 = 2 * np.arcsin(\n",
    "        np.sqrt(x[2] ** 2 + x[3] ** 2) / np.sqrt(x[0] ** 2 + x[1] ** 2 + x[2] ** 2 + x[3] ** 2)\n",
    "    )\n",
    "\n",
    "    return np.array([beta2, -beta1 / 2, beta1 / 2, -beta0 / 2, beta0 / 2])\n",
    "\n",
    "\n",
    "def statepreparation(a):\n",
    "    qml.RY(a[0], wires=0)\n",
    "\n",
    "    qml.CNOT(wires=[0, 1])\n",
    "    qml.RY(a[1], wires=1)\n",
    "    qml.CNOT(wires=[0, 1])\n",
    "    qml.RY(a[2], wires=1)\n",
    "\n",
    "    qml.PauliX(wires=0)\n",
    "    qml.CNOT(wires=[0, 1])\n",
    "    qml.RY(a[3], wires=1)\n",
    "    qml.CNOT(wires=[0, 1])\n",
    "    qml.RY(a[4], wires=1)\n",
    "    qml.PauliX(wires=0)"
   ]
  },
  {
   "cell_type": "code",
   "execution_count": 4,
   "metadata": {},
   "outputs": [
    {
     "output_type": "stream",
     "name": "stdout",
     "text": "x               :  [0.53896774 0.79503606 0.27826503 0.        ]\nangles          :  [ 0.56397465 -0.          0.         -0.97504604  0.97504604]\namplitude vector:  [ 5.38967743e-01  7.95036065e-01  2.78265032e-01 -2.20431956e-17]\n"
    }
   ],
   "source": [
    "x = np.array([0.53896774, 0.79503606, 0.27826503, 0.0])\n",
    "ang = get_angles(x)\n",
    "\n",
    "\n",
    "@qml.qnode(dev)\n",
    "def test(angles=None):\n",
    "\n",
    "    statepreparation(angles)\n",
    "\n",
    "    return qml.expval(qml.PauliZ(0))\n",
    "\n",
    "\n",
    "test(angles=ang)\n",
    "\n",
    "print(\"x               : \", x)\n",
    "print(\"angles          : \", ang)\n",
    "print(\"amplitude vector: \", np.real(dev._state))"
   ]
  },
  {
   "cell_type": "code",
   "execution_count": 4,
   "metadata": {},
   "outputs": [],
   "source": [
    "def layer(W):\n",
    "    qml.Rot(W[0, 0], W[0, 1], W[0, 2], wires=0)\n",
    "    qml.Rot(W[1, 0], W[1, 1], W[1, 2], wires=1)\n",
    "    qml.CNOT(wires=[0, 1])"
   ]
  },
  {
   "cell_type": "code",
   "execution_count": 11,
   "metadata": {},
   "outputs": [],
   "source": [
    "@qml.qnode(dev)\n",
    "def circuit(weights, angles=None):\n",
    "    statepreparation(angles)\n",
    "\n",
    "    for W in weights:\n",
    "        layer(W)\n",
    "\n",
    "    return qml.expval(qml.PauliZ(0))\n",
    "\n",
    "\n",
    "def variational_classifier(var, angles=None):\n",
    "    weights = var[0]\n",
    "    bias = var[1]\n",
    "    return circuit(weights, angles=angles) + bias\n",
    "\n",
    "\n",
    "def cost(weights, features, labels):\n",
    "    predictions = [variational_classifier(weights, angles=f) for f in features]\n",
    "    return square_loss(labels, predictions)\n",
    "\n",
    "def square_loss(labels, predictions):\n",
    "    loss = 0\n",
    "    for l, p in zip(labels, predictions):\n",
    "        loss = loss + (l - p) ** 2\n",
    "\n",
    "    loss = loss / len(labels)\n",
    "    return loss\n",
    "\n",
    "def accuracy(labels, predictions):\n",
    "\n",
    "    loss = 0\n",
    "    for l, p in zip(labels, predictions):\n",
    "        if abs(l - p) < 1e-5:\n",
    "            loss = loss + 1\n",
    "    loss = loss / len(labels)\n",
    "\n",
    "    return loss"
   ]
  },
  {
   "cell_type": "code",
   "execution_count": 6,
   "metadata": {},
   "outputs": [
    {
     "name": "stdout",
     "output_type": "stream",
     "text": [
      "First X sample (original)  : [0.4  0.75]\n",
      "First X sample (padded)    : [0.4  0.75 0.3  0.  ]\n",
      "First X sample (normalized): [0.44376016 0.83205029 0.33282012 0.        ]\n",
      "First features sample      : [ 0.67858523 -0.          0.         -1.080839    1.080839  ]\n"
     ]
    }
   ],
   "source": [
    "data = np.loadtxt(\"variational_classifier/data/iris_classes1and2_scaled.txt\")\n",
    "X = data[:, 0:2]\n",
    "print(\"First X sample (original)  :\", X[0])\n",
    "\n",
    "# pad the vectors to size 2^2 with constant values\n",
    "padding = 0.3 * np.ones((len(X), 1))\n",
    "X_pad = np.c_[np.c_[X, padding], np.zeros((len(X), 1))]\n",
    "print(\"First X sample (padded)    :\", X_pad[0])\n",
    "\n",
    "# normalize each input\n",
    "normalization = np.sqrt(np.sum(X_pad ** 2, -1))\n",
    "X_norm = (X_pad.T / normalization).T\n",
    "print(\"First X sample (normalized):\", X_norm[0])\n",
    "\n",
    "# angles for state preparation are new features\n",
    "features = np.array([get_angles(x) for x in X_norm])\n",
    "print(\"First features sample      :\", features[0])\n",
    "\n",
    "Y = data[:, -1]"
   ]
  },
  {
   "cell_type": "code",
   "execution_count": 7,
   "metadata": {},
   "outputs": [
    {
     "data": {
      "image/png": "[encoded data removed]",
      "text/plain": [
       "<Figure size 432x288 with 1 Axes>"
      ]
     },
     "metadata": {
      "needs_background": "light"
     },
     "output_type": "display_data"
    },
    {
     "data": {
      "image/png": "[encoded data removed]",
      "text/plain": [
       "<Figure size 432x288 with 1 Axes>"
      ]
     },
     "metadata": {
      "needs_background": "light"
     },
     "output_type": "display_data"
    },
    {
     "data": {
      "image/png": "[encoded data removed]",
      "text/plain": [
       "<Figure size 432x288 with 1 Axes>"
      ]
     },
     "metadata": {
      "needs_background": "light"
     },
     "output_type": "display_data"
    }
   ],
   "source": [
    "plt.figure()\n",
    "plt.scatter(X[:, 0][Y == 1], X[:, 1][Y == 1], c=\"r\", marker=\"o\", edgecolors=\"k\")\n",
    "plt.scatter(X[:, 0][Y == -1], X[:, 1][Y == -1], c=\"b\", marker=\"o\", edgecolors=\"k\")\n",
    "plt.title(\"Original data\")\n",
    "plt.show()\n",
    "\n",
    "plt.figure()\n",
    "dim1 = 0\n",
    "dim2 = 1\n",
    "plt.scatter(X_norm[:, dim1][Y == 1], X_norm[:, dim2][Y == 1], c=\"r\", marker=\"o\", edgecolors=\"k\")\n",
    "plt.scatter(X_norm[:, dim1][Y == -1], X_norm[:, dim2][Y == -1], c=\"b\", marker=\"o\", edgecolors=\"k\")\n",
    "plt.title(\"Padded and normalised data (dims {} and {})\".format(dim1, dim2))\n",
    "plt.show()\n",
    "\n",
    "plt.figure()\n",
    "dim1 = 0\n",
    "dim2 = 3\n",
    "plt.scatter(features[:, dim1][Y == 1], features[:, dim2][Y == 1], c=\"r\", marker=\"o\", edgecolors=\"k\")\n",
    "plt.scatter(\n",
    "    features[:, dim1][Y == -1], features[:, dim2][Y == -1], c=\"b\", marker=\"o\", edgecolors=\"k\"\n",
    ")\n",
    "plt.title(\"Feature vectors (dims {} and {})\".format(dim1, dim2))\n",
    "plt.show()"
   ]
  },
  {
   "cell_type": "code",
   "execution_count": 8,
   "metadata": {},
   "outputs": [],
   "source": [
    "np.random.seed(0)\n",
    "num_data = len(Y)\n",
    "num_train = int(0.75 * num_data)\n",
    "index = np.random.permutation(range(num_data))\n",
    "feats_train = features[index[:num_train]]\n",
    "Y_train = Y[index[:num_train]]\n",
    "feats_val = features[index[num_train:]]\n",
    "Y_val = Y[index[num_train:]]\n",
    "\n",
    "# We need these later for plotting\n",
    "X_train = X[index[:num_train]]\n",
    "X_val = X[index[num_train:]]"
   ]
  },
  {
   "cell_type": "code",
   "execution_count": 9,
   "metadata": {},
   "outputs": [],
   "source": [
    "num_qubits = 2\n",
    "num_layers = 6\n",
    "var_init = (0.01 * np.random.randn(num_layers, num_qubits, 3), 0.0)\n",
    "\n",
    "opt = NesterovMomentumOptimizer(0.01)\n",
    "batch_size = 5\n",
    "\n",
    "# train the variational classifier\n",
    "var = var_init"
   ]
  },
  {
   "cell_type": "code",
   "execution_count": 12,
   "metadata": {},
   "outputs": [
    {
     "name": "stdout",
     "output_type": "stream",
     "text": [
      "Iter:     1 | Cost: 1.4571431 | Acc train: 0.4933333 | Acc validation: 0.5600000 \n",
      "Iter:     2 | Cost: 1.3216932 | Acc train: 0.4933333 | Acc validation: 0.5600000 \n",
      "Iter:     3 | Cost: 1.1360586 | Acc train: 0.4533333 | Acc validation: 0.5600000 \n",
      "Iter:     4 | Cost: 0.9907974 | Acc train: 0.4800000 | Acc validation: 0.5600000 \n",
      "Iter:     5 | Cost: 0.9041009 | Acc train: 0.5733333 | Acc validation: 0.7600000 \n",
      "Iter:     6 | Cost: 0.8627633 | Acc train: 0.6800000 | Acc validation: 0.8000000 \n",
      "Iter:     7 | Cost: 0.8367030 | Acc train: 0.7333333 | Acc validation: 0.7600000 \n",
      "Iter:     8 | Cost: 0.8183351 | Acc train: 0.7200000 | Acc validation: 0.7600000 \n",
      "Iter:     9 | Cost: 0.7960219 | Acc train: 0.7600000 | Acc validation: 0.7600000 \n",
      "Iter:    10 | Cost: 0.7717040 | Acc train: 0.8133333 | Acc validation: 0.9600000 \n",
      "Iter:    11 | Cost: 0.7679528 | Acc train: 0.6933333 | Acc validation: 0.7600000 \n",
      "Iter:    12 | Cost: 0.7780699 | Acc train: 0.6533333 | Acc validation: 0.7600000 \n",
      "Iter:    13 | Cost: 0.8067826 | Acc train: 0.6266667 | Acc validation: 0.6400000 \n",
      "Iter:    14 | Cost: 0.8183355 | Acc train: 0.6133333 | Acc validation: 0.6400000 \n",
      "Iter:    15 | Cost: 0.8193959 | Acc train: 0.6133333 | Acc validation: 0.6400000 \n",
      "Iter:    16 | Cost: 0.7901653 | Acc train: 0.6400000 | Acc validation: 0.6400000 \n",
      "Iter:    17 | Cost: 0.7610741 | Acc train: 0.6800000 | Acc validation: 0.7600000 \n",
      "Iter:    18 | Cost: 0.7344455 | Acc train: 0.7466667 | Acc validation: 0.7600000 \n",
      "Iter:    19 | Cost: 0.7210881 | Acc train: 0.8133333 | Acc validation: 0.9200000 \n",
      "Iter:    20 | Cost: 0.7211097 | Acc train: 0.8933333 | Acc validation: 1.0000000 \n",
      "Iter:    21 | Cost: 0.7410196 | Acc train: 0.7466667 | Acc validation: 0.6800000 \n",
      "Iter:    22 | Cost: 0.7537199 | Acc train: 0.6533333 | Acc validation: 0.6400000 \n",
      "Iter:    23 | Cost: 0.7584431 | Acc train: 0.6266667 | Acc validation: 0.6400000 \n",
      "Iter:    24 | Cost: 0.7392312 | Acc train: 0.7333333 | Acc validation: 0.6800000 \n",
      "Iter:    25 | Cost: 0.7321887 | Acc train: 0.7733333 | Acc validation: 0.6800000 \n",
      "Iter:    26 | Cost: 0.7265047 | Acc train: 0.8400000 | Acc validation: 0.7600000 \n",
      "Iter:    27 | Cost: 0.7318672 | Acc train: 0.7600000 | Acc validation: 0.6800000 \n",
      "Iter:    28 | Cost: 0.7338420 | Acc train: 0.7200000 | Acc validation: 0.6400000 \n",
      "Iter:    29 | Cost: 0.7227558 | Acc train: 0.7866667 | Acc validation: 0.6800000 \n",
      "Iter:    30 | Cost: 0.7128084 | Acc train: 0.8400000 | Acc validation: 0.8000000 \n",
      "Iter:    31 | Cost: 0.6963712 | Acc train: 0.9200000 | Acc validation: 0.9200000 \n",
      "Iter:    32 | Cost: 0.6841025 | Acc train: 0.9200000 | Acc validation: 1.0000000 \n",
      "Iter:    33 | Cost: 0.6810252 | Acc train: 0.9200000 | Acc validation: 0.9600000 \n",
      "Iter:    34 | Cost: 0.6852174 | Acc train: 0.8666667 | Acc validation: 0.8000000 \n",
      "Iter:    35 | Cost: 0.7024264 | Acc train: 0.7200000 | Acc validation: 0.6800000 \n",
      "Iter:    36 | Cost: 0.6839137 | Acc train: 0.8266667 | Acc validation: 0.8000000 \n",
      "Iter:    37 | Cost: 0.6773187 | Acc train: 0.8266667 | Acc validation: 0.8000000 \n",
      "Iter:    38 | Cost: 0.6797404 | Acc train: 0.7466667 | Acc validation: 0.6800000 \n",
      "Iter:    39 | Cost: 0.6881142 | Acc train: 0.6666667 | Acc validation: 0.6400000 \n",
      "Iter:    40 | Cost: 0.6707776 | Acc train: 0.7066667 | Acc validation: 0.6800000 \n",
      "Iter:    41 | Cost: 0.6208119 | Acc train: 0.8933333 | Acc validation: 0.8400000 \n",
      "Iter:    42 | Cost: 0.5978350 | Acc train: 0.9200000 | Acc validation: 0.9200000 \n",
      "Iter:    43 | Cost: 0.5871952 | Acc train: 0.9200000 | Acc validation: 0.9200000 \n",
      "Iter:    44 | Cost: 0.5646184 | Acc train: 0.9333333 | Acc validation: 1.0000000 \n",
      "Iter:    45 | Cost: 0.5527783 | Acc train: 0.9333333 | Acc validation: 1.0000000 \n",
      "Iter:    46 | Cost: 0.5316108 | Acc train: 0.9466667 | Acc validation: 1.0000000 \n",
      "Iter:    47 | Cost: 0.5134587 | Acc train: 0.9466667 | Acc validation: 1.0000000 \n",
      "Iter:    48 | Cost: 0.4985546 | Acc train: 0.9466667 | Acc validation: 1.0000000 \n",
      "Iter:    49 | Cost: 0.4880887 | Acc train: 0.9466667 | Acc validation: 1.0000000 \n",
      "Iter:    50 | Cost: 0.4687830 | Acc train: 0.9466667 | Acc validation: 1.0000000 \n",
      "Iter:    51 | Cost: 0.4437854 | Acc train: 0.9600000 | Acc validation: 1.0000000 \n",
      "Iter:    52 | Cost: 0.4240143 | Acc train: 1.0000000 | Acc validation: 1.0000000 \n",
      "Iter:    53 | Cost: 0.4147385 | Acc train: 0.9733333 | Acc validation: 0.9600000 \n",
      "Iter:    54 | Cost: 0.4143522 | Acc train: 0.9466667 | Acc validation: 0.9200000 \n",
      "Iter:    55 | Cost: 0.4104150 | Acc train: 0.9333333 | Acc validation: 0.9200000 \n",
      "Iter:    56 | Cost: 0.3926756 | Acc train: 0.9466667 | Acc validation: 0.9200000 \n",
      "Iter:    57 | Cost: 0.3558796 | Acc train: 0.9600000 | Acc validation: 0.9200000 \n",
      "Iter:    58 | Cost: 0.3284146 | Acc train: 1.0000000 | Acc validation: 1.0000000 \n",
      "Iter:    59 | Cost: 0.3113874 | Acc train: 1.0000000 | Acc validation: 1.0000000 \n",
      "Iter:    60 | Cost: 0.3055296 | Acc train: 0.9866667 | Acc validation: 1.0000000 \n"
     ]
    }
   ],
   "source": [
    "for it in range(60):\n",
    "\n",
    "    # Update the weights by one optimizer step\n",
    "    batch_index = np.random.randint(0, num_train, (batch_size,))\n",
    "    feats_train_batch = feats_train[batch_index]\n",
    "    Y_train_batch = Y_train[batch_index]\n",
    "    var = opt.step(lambda v: cost(v, feats_train_batch, Y_train_batch), var)\n",
    "\n",
    "    # Compute predictions on train and validation set\n",
    "    predictions_train = [np.sign(variational_classifier(var, angles=f)) for f in feats_train]\n",
    "    predictions_val = [np.sign(variational_classifier(var, angles=f)) for f in feats_val]\n",
    "\n",
    "    # Compute accuracy on train and validation set\n",
    "    acc_train = accuracy(Y_train, predictions_train)\n",
    "    acc_val = accuracy(Y_val, predictions_val)\n",
    "\n",
    "    print(\n",
    "        \"Iter: {:5d} | Cost: {:0.7f} | Acc train: {:0.7f} | Acc validation: {:0.7f} \"\n",
    "        \"\".format(it + 1, cost(var, features, Y), acc_train, acc_val)\n",
    "    )"
   ]
  },
  {
   "cell_type": "code",
   "execution_count": 13,
   "metadata": {},
   "outputs": [
    {
     "data": {
      "image/png": "[encoded data removed]",
      "text/plain": [
       "<Figure size 432x288 with 2 Axes>"
      ]
     },
     "metadata": {
      "needs_background": "light"
     },
     "output_type": "display_data"
    }
   ],
   "source": [
    "plt.figure()\n",
    "cm = plt.cm.RdBu\n",
    "\n",
    "# make data for decision regions\n",
    "xx, yy = np.meshgrid(np.linspace(0.0, 1.5, 20), np.linspace(0.0, 1.5, 20))\n",
    "X_grid = [np.array([x, y]) for x, y in zip(xx.flatten(), yy.flatten())]\n",
    "\n",
    "# preprocess grid points like data inputs above\n",
    "padding = 0.3 * np.ones((len(X_grid), 1))\n",
    "X_grid = np.c_[np.c_[X_grid, padding], np.zeros((len(X_grid), 1))]  # pad each input\n",
    "normalization = np.sqrt(np.sum(X_grid ** 2, -1))\n",
    "X_grid = (X_grid.T / normalization).T  # normalize each input\n",
    "features_grid = np.array(\n",
    "    [get_angles(x) for x in X_grid]\n",
    ")  # angles for state preparation are new features\n",
    "predictions_grid = [variational_classifier(var, angles=f) for f in features_grid]\n",
    "Z = np.reshape(predictions_grid, xx.shape)\n",
    "\n",
    "# plot decision regions\n",
    "cnt = plt.contourf(xx, yy, Z, levels=np.arange(-1, 1.1, 0.1), cmap=cm, alpha=0.8, extend=\"both\")\n",
    "plt.contour(xx, yy, Z, levels=[0.0], colors=(\"black\",), linestyles=(\"--\",), linewidths=(0.8,))\n",
    "plt.colorbar(cnt, ticks=[-1, 0, 1])\n",
    "\n",
    "# plot data\n",
    "plt.scatter(\n",
    "    X_train[:, 0][Y_train == 1],\n",
    "    X_train[:, 1][Y_train == 1],\n",
    "    c=\"b\",\n",
    "    marker=\"o\",\n",
    "    edgecolors=\"k\",\n",
    "    label=\"class 1 train\",\n",
    ")\n",
    "plt.scatter(\n",
    "    X_val[:, 0][Y_val == 1],\n",
    "    X_val[:, 1][Y_val == 1],\n",
    "    c=\"b\",\n",
    "    marker=\"^\",\n",
    "    edgecolors=\"k\",\n",
    "    label=\"class 1 validation\",\n",
    ")\n",
    "plt.scatter(\n",
    "    X_train[:, 0][Y_train == -1],\n",
    "    X_train[:, 1][Y_train == -1],\n",
    "    c=\"r\",\n",
    "    marker=\"o\",\n",
    "    edgecolors=\"k\",\n",
    "    label=\"class -1 train\",\n",
    ")\n",
    "plt.scatter(\n",
    "    X_val[:, 0][Y_val == -1],\n",
    "    X_val[:, 1][Y_val == -1],\n",
    "    c=\"r\",\n",
    "    marker=\"^\",\n",
    "    edgecolors=\"k\",\n",
    "    label=\"class -1 validation\",\n",
    ")\n",
    "\n",
    "plt.legend()\n",
    "plt.show()"
   ]
  },
  {
   "cell_type": "code",
   "execution_count": null,
   "metadata": {},
   "outputs": [],
   "source": []
  }
 ],
 "metadata": {
  "kernelspec": {
   "display_name": "Python 3",
   "language": "python",
   "name": "python3"
  },
  "language_info": {
   "codemirror_mode": {
    "name": "ipython",
    "version": 3
   },
   "file_extension": ".py",
   "mimetype": "text/x-python",
   "name": "python",
   "nbconvert_exporter": "python",
   "pygments_lexer": "ipython3",
   "version": "3.7.7-final"
  }
 },
 "nbformat": 4,
 "nbformat_minor": 4
}